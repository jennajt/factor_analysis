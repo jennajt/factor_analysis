{
 "cells": [
  {
   "cell_type": "markdown",
   "id": "b83b8597",
   "metadata": {},
   "source": [
    "# Factor Analysis"
   ]
  },
  {
   "cell_type": "code",
   "execution_count": 14,
   "id": "f15598bd",
   "metadata": {
    "scrolled": true
   },
   "outputs": [
    {
     "name": "stdout",
     "output_type": "stream",
     "text": [
      "\u001b[33mDEPRECATION: Configuring installation scheme with distutils config files is deprecated and will no longer work in the near future. If you are using a Homebrew or Linuxbrew Python, please see discussion at https://github.com/Homebrew/homebrew-core/issues/76621\u001b[0m\u001b[33m\n",
      "\u001b[0mCollecting factor_analyzer\n",
      "  Downloading factor_analyzer-0.4.1.tar.gz (41 kB)\n",
      "\u001b[2K     \u001b[90m━━━━━━━━━━━━━━━━━━━━━━━━━━━━━━━━━━━━━━━━\u001b[0m \u001b[32m41.8/41.8 kB\u001b[0m \u001b[31m1.2 MB/s\u001b[0m eta \u001b[36m0:00:00\u001b[0m\n",
      "\u001b[?25h  Installing build dependencies ... \u001b[?25ldone\n",
      "\u001b[?25h  Getting requirements to build wheel ... \u001b[?25ldone\n",
      "\u001b[?25h  Preparing metadata (pyproject.toml) ... \u001b[?25ldone\n",
      "\u001b[?25hRequirement already satisfied: pandas in /usr/local/lib/python3.9/site-packages (from factor_analyzer) (1.5.2)\n",
      "Collecting pre-commit\n",
      "  Downloading pre_commit-3.3.1-py2.py3-none-any.whl (202 kB)\n",
      "\u001b[2K     \u001b[90m━━━━━━━━━━━━━━━━━━━━━━━━━━━━━━━━━━━━━━━\u001b[0m \u001b[32m202.5/202.5 kB\u001b[0m \u001b[31m4.6 MB/s\u001b[0m eta \u001b[36m0:00:00\u001b[0ma \u001b[36m0:00:01\u001b[0m\n",
      "\u001b[?25hRequirement already satisfied: scipy in /usr/local/lib/python3.9/site-packages (from factor_analyzer) (1.7.3)\n",
      "Requirement already satisfied: numpy in /usr/local/lib/python3.9/site-packages (from factor_analyzer) (1.22.4)\n",
      "Requirement already satisfied: scikit-learn in /usr/local/lib/python3.9/site-packages (from factor_analyzer) (1.0.2)\n",
      "Requirement already satisfied: pytz>=2020.1 in /usr/local/lib/python3.9/site-packages (from pandas->factor_analyzer) (2021.3)\n",
      "Requirement already satisfied: python-dateutil>=2.8.1 in /usr/local/lib/python3.9/site-packages (from pandas->factor_analyzer) (2.8.2)\n",
      "Requirement already satisfied: pyyaml>=5.1 in /usr/local/lib/python3.9/site-packages (from pre-commit->factor_analyzer) (6.0)\n",
      "Collecting identify>=1.0.0\n",
      "  Downloading identify-2.5.23-py2.py3-none-any.whl (98 kB)\n",
      "\u001b[2K     \u001b[90m━━━━━━━━━━━━━━━━━━━━━━━━━━━━━━━━━━━━━━━━\u001b[0m \u001b[32m98.8/98.8 kB\u001b[0m \u001b[31m8.5 MB/s\u001b[0m eta \u001b[36m0:00:00\u001b[0m\n",
      "\u001b[?25hCollecting cfgv>=2.0.0\n",
      "  Downloading cfgv-3.3.1-py2.py3-none-any.whl (7.3 kB)\n",
      "Requirement already satisfied: virtualenv>=20.10.0 in /usr/local/lib/python3.9/site-packages (from pre-commit->factor_analyzer) (20.16.5)\n",
      "Collecting nodeenv>=0.11.1\n",
      "  Downloading nodeenv-1.7.0-py2.py3-none-any.whl (21 kB)\n",
      "Requirement already satisfied: threadpoolctl>=2.0.0 in /usr/local/lib/python3.9/site-packages (from scikit-learn->factor_analyzer) (3.1.0)\n",
      "Requirement already satisfied: joblib>=0.11 in /usr/local/lib/python3.9/site-packages (from scikit-learn->factor_analyzer) (1.2.0)\n",
      "Requirement already satisfied: setuptools in /usr/local/lib/python3.9/site-packages (from nodeenv>=0.11.1->pre-commit->factor_analyzer) (62.3.2)\n",
      "Requirement already satisfied: six>=1.5 in /usr/local/lib/python3.9/site-packages (from python-dateutil>=2.8.1->pandas->factor_analyzer) (1.16.0)\n",
      "Requirement already satisfied: filelock<4,>=3.4.1 in /usr/local/lib/python3.9/site-packages (from virtualenv>=20.10.0->pre-commit->factor_analyzer) (3.8.0)\n",
      "Requirement already satisfied: platformdirs<3,>=2.4 in /usr/local/lib/python3.9/site-packages (from virtualenv>=20.10.0->pre-commit->factor_analyzer) (2.4.1)\n",
      "Requirement already satisfied: distlib<1,>=0.3.5 in /usr/local/lib/python3.9/site-packages (from virtualenv>=20.10.0->pre-commit->factor_analyzer) (0.3.6)\n",
      "Building wheels for collected packages: factor_analyzer\n",
      "  Building wheel for factor_analyzer (pyproject.toml) ... \u001b[?25ldone\n",
      "\u001b[?25h  Created wheel for factor_analyzer: filename=factor_analyzer-0.4.1-py2.py3-none-any.whl size=42015 sha256=d937d2e5da6361a27ae83baff6dea3ed382d35ea517161ffa227066f75526722\n",
      "  Stored in directory: /Users/jennatan/Library/Caches/pip/wheels/6d/32/bd/460a71becd83f7d77152f437c2fd451f5c87bc19cfcdbfcd24\n",
      "Successfully built factor_analyzer\n",
      "Installing collected packages: nodeenv, identify, cfgv, pre-commit, factor_analyzer\n",
      "\u001b[33m  DEPRECATION: Configuring installation scheme with distutils config files is deprecated and will no longer work in the near future. If you are using a Homebrew or Linuxbrew Python, please see discussion at https://github.com/Homebrew/homebrew-core/issues/76621\u001b[0m\u001b[33m\n",
      "\u001b[0m\u001b[33m  DEPRECATION: Configuring installation scheme with distutils config files is deprecated and will no longer work in the near future. If you are using a Homebrew or Linuxbrew Python, please see discussion at https://github.com/Homebrew/homebrew-core/issues/76621\u001b[0m\u001b[33m\n",
      "\u001b[0m\u001b[33m  DEPRECATION: Configuring installation scheme with distutils config files is deprecated and will no longer work in the near future. If you are using a Homebrew or Linuxbrew Python, please see discussion at https://github.com/Homebrew/homebrew-core/issues/76621\u001b[0m\u001b[33m\n",
      "\u001b[0m\u001b[33m  DEPRECATION: Configuring installation scheme with distutils config files is deprecated and will no longer work in the near future. If you are using a Homebrew or Linuxbrew Python, please see discussion at https://github.com/Homebrew/homebrew-core/issues/76621\u001b[0m\u001b[33m\n",
      "\u001b[0m\u001b[33m  DEPRECATION: Configuring installation scheme with distutils config files is deprecated and will no longer work in the near future. If you are using a Homebrew or Linuxbrew Python, please see discussion at https://github.com/Homebrew/homebrew-core/issues/76621\u001b[0m\u001b[33m\n",
      "\u001b[0m\u001b[33mDEPRECATION: Configuring installation scheme with distutils config files is deprecated and will no longer work in the near future. If you are using a Homebrew or Linuxbrew Python, please see discussion at https://github.com/Homebrew/homebrew-core/issues/76621\u001b[0m\u001b[33m\n",
      "\u001b[0mSuccessfully installed cfgv-3.3.1 factor_analyzer-0.4.1 identify-2.5.23 nodeenv-1.7.0 pre-commit-3.3.1\n",
      "\n",
      "\u001b[1m[\u001b[0m\u001b[34;49mnotice\u001b[0m\u001b[1;39;49m]\u001b[0m\u001b[39;49m A new release of pip available: \u001b[0m\u001b[31;49m22.1.2\u001b[0m\u001b[39;49m -> \u001b[0m\u001b[32;49m23.1.2\u001b[0m\n",
      "\u001b[1m[\u001b[0m\u001b[34;49mnotice\u001b[0m\u001b[1;39;49m]\u001b[0m\u001b[39;49m To update, run: \u001b[0m\u001b[32;49m/usr/local/opt/python@3.9/bin/python3.9 -m pip install --upgrade pip\u001b[0m\n"
     ]
    }
   ],
   "source": [
    "!pip install factor_analyzer"
   ]
  },
  {
   "cell_type": "markdown",
   "id": "77a2e300",
   "metadata": {},
   "source": [
    "Assumptions:\n",
    "\n",
    "-There are no outliers in data.\n",
    "-Sample size should be greater than the factor.\n",
    "-There should not be perfect multicollinearity.\n",
    "-There should not be homoscedasticity between the variables."
   ]
  },
  {
   "cell_type": "code",
   "execution_count": 29,
   "id": "f9d0d1f0",
   "metadata": {},
   "outputs": [],
   "source": [
    "import numpy as np\n",
    "import pandas as pd\n",
    "import matplotlib.pyplot as plt"
   ]
  },
  {
   "cell_type": "code",
   "execution_count": 33,
   "id": "a3dc94c6",
   "metadata": {},
   "outputs": [
    {
     "data": {
      "text/html": [
       "<div>\n",
       "<style scoped>\n",
       "    .dataframe tbody tr th:only-of-type {\n",
       "        vertical-align: middle;\n",
       "    }\n",
       "\n",
       "    .dataframe tbody tr th {\n",
       "        vertical-align: top;\n",
       "    }\n",
       "\n",
       "    .dataframe thead th {\n",
       "        text-align: right;\n",
       "    }\n",
       "</style>\n",
       "<table border=\"1\" class=\"dataframe\">\n",
       "  <thead>\n",
       "    <tr style=\"text-align: right;\">\n",
       "      <th></th>\n",
       "      <th>Unnamed: 0</th>\n",
       "      <th>id</th>\n",
       "      <th>Gender</th>\n",
       "      <th>Customer Type</th>\n",
       "      <th>Age</th>\n",
       "      <th>Type of Travel</th>\n",
       "      <th>Class</th>\n",
       "      <th>Flight Distance</th>\n",
       "      <th>Inflight wifi service</th>\n",
       "      <th>Departure/Arrival time convenient</th>\n",
       "      <th>Ease of Online booking</th>\n",
       "      <th>Gate location</th>\n",
       "      <th>Food and drink</th>\n",
       "      <th>Online boarding</th>\n",
       "      <th>Seat comfort</th>\n",
       "      <th>Inflight entertainment</th>\n",
       "      <th>On-board service</th>\n",
       "      <th>Leg room service</th>\n",
       "      <th>Baggage handling</th>\n",
       "      <th>Checkin service</th>\n",
       "      <th>Inflight service</th>\n",
       "      <th>Cleanliness</th>\n",
       "      <th>Departure Delay in Minutes</th>\n",
       "      <th>Arrival Delay in Minutes</th>\n",
       "      <th>satisfaction</th>\n",
       "    </tr>\n",
       "  </thead>\n",
       "  <tbody>\n",
       "    <tr>\n",
       "      <th>0</th>\n",
       "      <td>0</td>\n",
       "      <td>70172</td>\n",
       "      <td>Male</td>\n",
       "      <td>Loyal Customer</td>\n",
       "      <td>13</td>\n",
       "      <td>Personal Travel</td>\n",
       "      <td>Eco Plus</td>\n",
       "      <td>460</td>\n",
       "      <td>3</td>\n",
       "      <td>4</td>\n",
       "      <td>3</td>\n",
       "      <td>1</td>\n",
       "      <td>5</td>\n",
       "      <td>3</td>\n",
       "      <td>5</td>\n",
       "      <td>5</td>\n",
       "      <td>4</td>\n",
       "      <td>3</td>\n",
       "      <td>4</td>\n",
       "      <td>4</td>\n",
       "      <td>5</td>\n",
       "      <td>5</td>\n",
       "      <td>25</td>\n",
       "      <td>18.0</td>\n",
       "      <td>neutral or dissatisfied</td>\n",
       "    </tr>\n",
       "    <tr>\n",
       "      <th>1</th>\n",
       "      <td>1</td>\n",
       "      <td>5047</td>\n",
       "      <td>Male</td>\n",
       "      <td>disloyal Customer</td>\n",
       "      <td>25</td>\n",
       "      <td>Business travel</td>\n",
       "      <td>Business</td>\n",
       "      <td>235</td>\n",
       "      <td>3</td>\n",
       "      <td>2</td>\n",
       "      <td>3</td>\n",
       "      <td>3</td>\n",
       "      <td>1</td>\n",
       "      <td>3</td>\n",
       "      <td>1</td>\n",
       "      <td>1</td>\n",
       "      <td>1</td>\n",
       "      <td>5</td>\n",
       "      <td>3</td>\n",
       "      <td>1</td>\n",
       "      <td>4</td>\n",
       "      <td>1</td>\n",
       "      <td>1</td>\n",
       "      <td>6.0</td>\n",
       "      <td>neutral or dissatisfied</td>\n",
       "    </tr>\n",
       "  </tbody>\n",
       "</table>\n",
       "</div>"
      ],
      "text/plain": [
       "   Unnamed: 0     id Gender      Customer Type  Age   Type of Travel  \\\n",
       "0           0  70172   Male     Loyal Customer   13  Personal Travel   \n",
       "1           1   5047   Male  disloyal Customer   25  Business travel   \n",
       "\n",
       "      Class  Flight Distance  Inflight wifi service  \\\n",
       "0  Eco Plus              460                      3   \n",
       "1  Business              235                      3   \n",
       "\n",
       "   Departure/Arrival time convenient  Ease of Online booking  Gate location  \\\n",
       "0                                  4                       3              1   \n",
       "1                                  2                       3              3   \n",
       "\n",
       "   Food and drink  Online boarding  Seat comfort  Inflight entertainment  \\\n",
       "0               5                3             5                       5   \n",
       "1               1                3             1                       1   \n",
       "\n",
       "   On-board service  Leg room service  Baggage handling  Checkin service  \\\n",
       "0                 4                 3                 4                4   \n",
       "1                 1                 5                 3                1   \n",
       "\n",
       "   Inflight service  Cleanliness  Departure Delay in Minutes  \\\n",
       "0                 5            5                          25   \n",
       "1                 4            1                           1   \n",
       "\n",
       "   Arrival Delay in Minutes             satisfaction  \n",
       "0                      18.0  neutral or dissatisfied  \n",
       "1                       6.0  neutral or dissatisfied  "
      ]
     },
     "execution_count": 33,
     "metadata": {},
     "output_type": "execute_result"
    }
   ],
   "source": [
    "df = pd.read_csv('/Users/jennatan/Downloads/train.csv')\n",
    "pd.set_option('display.max_columns', None)\n",
    "df.head(2)"
   ]
  },
  {
   "cell_type": "code",
   "execution_count": 34,
   "id": "3111b2d5",
   "metadata": {},
   "outputs": [
    {
     "name": "stdout",
     "output_type": "stream",
     "text": [
      "<class 'pandas.core.frame.DataFrame'>\n",
      "RangeIndex: 103904 entries, 0 to 103903\n",
      "Data columns (total 25 columns):\n",
      " #   Column                             Non-Null Count   Dtype  \n",
      "---  ------                             --------------   -----  \n",
      " 0   Unnamed: 0                         103904 non-null  int64  \n",
      " 1   id                                 103904 non-null  int64  \n",
      " 2   Gender                             103904 non-null  object \n",
      " 3   Customer Type                      103904 non-null  object \n",
      " 4   Age                                103904 non-null  int64  \n",
      " 5   Type of Travel                     103904 non-null  object \n",
      " 6   Class                              103904 non-null  object \n",
      " 7   Flight Distance                    103904 non-null  int64  \n",
      " 8   Inflight wifi service              103904 non-null  int64  \n",
      " 9   Departure/Arrival time convenient  103904 non-null  int64  \n",
      " 10  Ease of Online booking             103904 non-null  int64  \n",
      " 11  Gate location                      103904 non-null  int64  \n",
      " 12  Food and drink                     103904 non-null  int64  \n",
      " 13  Online boarding                    103904 non-null  int64  \n",
      " 14  Seat comfort                       103904 non-null  int64  \n",
      " 15  Inflight entertainment             103904 non-null  int64  \n",
      " 16  On-board service                   103904 non-null  int64  \n",
      " 17  Leg room service                   103904 non-null  int64  \n",
      " 18  Baggage handling                   103904 non-null  int64  \n",
      " 19  Checkin service                    103904 non-null  int64  \n",
      " 20  Inflight service                   103904 non-null  int64  \n",
      " 21  Cleanliness                        103904 non-null  int64  \n",
      " 22  Departure Delay in Minutes         103904 non-null  int64  \n",
      " 23  Arrival Delay in Minutes           103594 non-null  float64\n",
      " 24  satisfaction                       103904 non-null  object \n",
      "dtypes: float64(1), int64(19), object(5)\n",
      "memory usage: 19.8+ MB\n"
     ]
    }
   ],
   "source": [
    "df.info()"
   ]
  },
  {
   "cell_type": "code",
   "execution_count": 35,
   "id": "86ef37a4",
   "metadata": {},
   "outputs": [],
   "source": [
    "df.drop(columns=['Unnamed: 0','id','Gender','Customer Type','Type of Travel', 'Class', 'satisfaction'], inplace=True)"
   ]
  },
  {
   "cell_type": "code",
   "execution_count": 36,
   "id": "b5f9231c",
   "metadata": {},
   "outputs": [
    {
     "name": "stdout",
     "output_type": "stream",
     "text": [
      "<class 'pandas.core.frame.DataFrame'>\n",
      "RangeIndex: 103904 entries, 0 to 103903\n",
      "Data columns (total 18 columns):\n",
      " #   Column                             Non-Null Count   Dtype  \n",
      "---  ------                             --------------   -----  \n",
      " 0   Age                                103904 non-null  int64  \n",
      " 1   Flight Distance                    103904 non-null  int64  \n",
      " 2   Inflight wifi service              103904 non-null  int64  \n",
      " 3   Departure/Arrival time convenient  103904 non-null  int64  \n",
      " 4   Ease of Online booking             103904 non-null  int64  \n",
      " 5   Gate location                      103904 non-null  int64  \n",
      " 6   Food and drink                     103904 non-null  int64  \n",
      " 7   Online boarding                    103904 non-null  int64  \n",
      " 8   Seat comfort                       103904 non-null  int64  \n",
      " 9   Inflight entertainment             103904 non-null  int64  \n",
      " 10  On-board service                   103904 non-null  int64  \n",
      " 11  Leg room service                   103904 non-null  int64  \n",
      " 12  Baggage handling                   103904 non-null  int64  \n",
      " 13  Checkin service                    103904 non-null  int64  \n",
      " 14  Inflight service                   103904 non-null  int64  \n",
      " 15  Cleanliness                        103904 non-null  int64  \n",
      " 16  Departure Delay in Minutes         103904 non-null  int64  \n",
      " 17  Arrival Delay in Minutes           103594 non-null  float64\n",
      "dtypes: float64(1), int64(17)\n",
      "memory usage: 14.3 MB\n"
     ]
    }
   ],
   "source": [
    "df.info()"
   ]
  },
  {
   "cell_type": "code",
   "execution_count": 37,
   "id": "d18c7ade",
   "metadata": {},
   "outputs": [
    {
     "data": {
      "text/html": [
       "<div>\n",
       "<style scoped>\n",
       "    .dataframe tbody tr th:only-of-type {\n",
       "        vertical-align: middle;\n",
       "    }\n",
       "\n",
       "    .dataframe tbody tr th {\n",
       "        vertical-align: top;\n",
       "    }\n",
       "\n",
       "    .dataframe thead th {\n",
       "        text-align: right;\n",
       "    }\n",
       "</style>\n",
       "<table border=\"1\" class=\"dataframe\">\n",
       "  <thead>\n",
       "    <tr style=\"text-align: right;\">\n",
       "      <th></th>\n",
       "      <th>Age</th>\n",
       "      <th>Flight Distance</th>\n",
       "      <th>Inflight wifi service</th>\n",
       "      <th>Departure/Arrival time convenient</th>\n",
       "      <th>Ease of Online booking</th>\n",
       "      <th>Gate location</th>\n",
       "      <th>Food and drink</th>\n",
       "      <th>Online boarding</th>\n",
       "      <th>Seat comfort</th>\n",
       "      <th>Inflight entertainment</th>\n",
       "      <th>On-board service</th>\n",
       "      <th>Leg room service</th>\n",
       "      <th>Baggage handling</th>\n",
       "      <th>Checkin service</th>\n",
       "      <th>Inflight service</th>\n",
       "      <th>Cleanliness</th>\n",
       "      <th>Departure Delay in Minutes</th>\n",
       "      <th>Arrival Delay in Minutes</th>\n",
       "    </tr>\n",
       "  </thead>\n",
       "  <tbody>\n",
       "    <tr>\n",
       "      <th>count</th>\n",
       "      <td>103904.000000</td>\n",
       "      <td>103904.000000</td>\n",
       "      <td>103904.000000</td>\n",
       "      <td>103904.000000</td>\n",
       "      <td>103904.000000</td>\n",
       "      <td>103904.000000</td>\n",
       "      <td>103904.000000</td>\n",
       "      <td>103904.000000</td>\n",
       "      <td>103904.000000</td>\n",
       "      <td>103904.000000</td>\n",
       "      <td>103904.000000</td>\n",
       "      <td>103904.000000</td>\n",
       "      <td>103904.000000</td>\n",
       "      <td>103904.000000</td>\n",
       "      <td>103904.000000</td>\n",
       "      <td>103904.000000</td>\n",
       "      <td>103904.000000</td>\n",
       "      <td>103594.000000</td>\n",
       "    </tr>\n",
       "    <tr>\n",
       "      <th>mean</th>\n",
       "      <td>39.379706</td>\n",
       "      <td>1189.448375</td>\n",
       "      <td>2.729683</td>\n",
       "      <td>3.060296</td>\n",
       "      <td>2.756901</td>\n",
       "      <td>2.976883</td>\n",
       "      <td>3.202129</td>\n",
       "      <td>3.250375</td>\n",
       "      <td>3.439396</td>\n",
       "      <td>3.358158</td>\n",
       "      <td>3.382363</td>\n",
       "      <td>3.351055</td>\n",
       "      <td>3.631833</td>\n",
       "      <td>3.304290</td>\n",
       "      <td>3.640428</td>\n",
       "      <td>3.286351</td>\n",
       "      <td>14.815618</td>\n",
       "      <td>15.178678</td>\n",
       "    </tr>\n",
       "    <tr>\n",
       "      <th>std</th>\n",
       "      <td>15.114964</td>\n",
       "      <td>997.147281</td>\n",
       "      <td>1.327829</td>\n",
       "      <td>1.525075</td>\n",
       "      <td>1.398929</td>\n",
       "      <td>1.277621</td>\n",
       "      <td>1.329533</td>\n",
       "      <td>1.349509</td>\n",
       "      <td>1.319088</td>\n",
       "      <td>1.332991</td>\n",
       "      <td>1.288354</td>\n",
       "      <td>1.315605</td>\n",
       "      <td>1.180903</td>\n",
       "      <td>1.265396</td>\n",
       "      <td>1.175663</td>\n",
       "      <td>1.312273</td>\n",
       "      <td>38.230901</td>\n",
       "      <td>38.698682</td>\n",
       "    </tr>\n",
       "    <tr>\n",
       "      <th>min</th>\n",
       "      <td>7.000000</td>\n",
       "      <td>31.000000</td>\n",
       "      <td>0.000000</td>\n",
       "      <td>0.000000</td>\n",
       "      <td>0.000000</td>\n",
       "      <td>0.000000</td>\n",
       "      <td>0.000000</td>\n",
       "      <td>0.000000</td>\n",
       "      <td>0.000000</td>\n",
       "      <td>0.000000</td>\n",
       "      <td>0.000000</td>\n",
       "      <td>0.000000</td>\n",
       "      <td>1.000000</td>\n",
       "      <td>0.000000</td>\n",
       "      <td>0.000000</td>\n",
       "      <td>0.000000</td>\n",
       "      <td>0.000000</td>\n",
       "      <td>0.000000</td>\n",
       "    </tr>\n",
       "    <tr>\n",
       "      <th>25%</th>\n",
       "      <td>27.000000</td>\n",
       "      <td>414.000000</td>\n",
       "      <td>2.000000</td>\n",
       "      <td>2.000000</td>\n",
       "      <td>2.000000</td>\n",
       "      <td>2.000000</td>\n",
       "      <td>2.000000</td>\n",
       "      <td>2.000000</td>\n",
       "      <td>2.000000</td>\n",
       "      <td>2.000000</td>\n",
       "      <td>2.000000</td>\n",
       "      <td>2.000000</td>\n",
       "      <td>3.000000</td>\n",
       "      <td>3.000000</td>\n",
       "      <td>3.000000</td>\n",
       "      <td>2.000000</td>\n",
       "      <td>0.000000</td>\n",
       "      <td>0.000000</td>\n",
       "    </tr>\n",
       "    <tr>\n",
       "      <th>50%</th>\n",
       "      <td>40.000000</td>\n",
       "      <td>843.000000</td>\n",
       "      <td>3.000000</td>\n",
       "      <td>3.000000</td>\n",
       "      <td>3.000000</td>\n",
       "      <td>3.000000</td>\n",
       "      <td>3.000000</td>\n",
       "      <td>3.000000</td>\n",
       "      <td>4.000000</td>\n",
       "      <td>4.000000</td>\n",
       "      <td>4.000000</td>\n",
       "      <td>4.000000</td>\n",
       "      <td>4.000000</td>\n",
       "      <td>3.000000</td>\n",
       "      <td>4.000000</td>\n",
       "      <td>3.000000</td>\n",
       "      <td>0.000000</td>\n",
       "      <td>0.000000</td>\n",
       "    </tr>\n",
       "    <tr>\n",
       "      <th>75%</th>\n",
       "      <td>51.000000</td>\n",
       "      <td>1743.000000</td>\n",
       "      <td>4.000000</td>\n",
       "      <td>4.000000</td>\n",
       "      <td>4.000000</td>\n",
       "      <td>4.000000</td>\n",
       "      <td>4.000000</td>\n",
       "      <td>4.000000</td>\n",
       "      <td>5.000000</td>\n",
       "      <td>4.000000</td>\n",
       "      <td>4.000000</td>\n",
       "      <td>4.000000</td>\n",
       "      <td>5.000000</td>\n",
       "      <td>4.000000</td>\n",
       "      <td>5.000000</td>\n",
       "      <td>4.000000</td>\n",
       "      <td>12.000000</td>\n",
       "      <td>13.000000</td>\n",
       "    </tr>\n",
       "    <tr>\n",
       "      <th>max</th>\n",
       "      <td>85.000000</td>\n",
       "      <td>4983.000000</td>\n",
       "      <td>5.000000</td>\n",
       "      <td>5.000000</td>\n",
       "      <td>5.000000</td>\n",
       "      <td>5.000000</td>\n",
       "      <td>5.000000</td>\n",
       "      <td>5.000000</td>\n",
       "      <td>5.000000</td>\n",
       "      <td>5.000000</td>\n",
       "      <td>5.000000</td>\n",
       "      <td>5.000000</td>\n",
       "      <td>5.000000</td>\n",
       "      <td>5.000000</td>\n",
       "      <td>5.000000</td>\n",
       "      <td>5.000000</td>\n",
       "      <td>1592.000000</td>\n",
       "      <td>1584.000000</td>\n",
       "    </tr>\n",
       "  </tbody>\n",
       "</table>\n",
       "</div>"
      ],
      "text/plain": [
       "                 Age  Flight Distance  Inflight wifi service  \\\n",
       "count  103904.000000    103904.000000          103904.000000   \n",
       "mean       39.379706      1189.448375               2.729683   \n",
       "std        15.114964       997.147281               1.327829   \n",
       "min         7.000000        31.000000               0.000000   \n",
       "25%        27.000000       414.000000               2.000000   \n",
       "50%        40.000000       843.000000               3.000000   \n",
       "75%        51.000000      1743.000000               4.000000   \n",
       "max        85.000000      4983.000000               5.000000   \n",
       "\n",
       "       Departure/Arrival time convenient  Ease of Online booking  \\\n",
       "count                      103904.000000           103904.000000   \n",
       "mean                            3.060296                2.756901   \n",
       "std                             1.525075                1.398929   \n",
       "min                             0.000000                0.000000   \n",
       "25%                             2.000000                2.000000   \n",
       "50%                             3.000000                3.000000   \n",
       "75%                             4.000000                4.000000   \n",
       "max                             5.000000                5.000000   \n",
       "\n",
       "       Gate location  Food and drink  Online boarding   Seat comfort  \\\n",
       "count  103904.000000   103904.000000    103904.000000  103904.000000   \n",
       "mean        2.976883        3.202129         3.250375       3.439396   \n",
       "std         1.277621        1.329533         1.349509       1.319088   \n",
       "min         0.000000        0.000000         0.000000       0.000000   \n",
       "25%         2.000000        2.000000         2.000000       2.000000   \n",
       "50%         3.000000        3.000000         3.000000       4.000000   \n",
       "75%         4.000000        4.000000         4.000000       5.000000   \n",
       "max         5.000000        5.000000         5.000000       5.000000   \n",
       "\n",
       "       Inflight entertainment  On-board service  Leg room service  \\\n",
       "count           103904.000000     103904.000000     103904.000000   \n",
       "mean                 3.358158          3.382363          3.351055   \n",
       "std                  1.332991          1.288354          1.315605   \n",
       "min                  0.000000          0.000000          0.000000   \n",
       "25%                  2.000000          2.000000          2.000000   \n",
       "50%                  4.000000          4.000000          4.000000   \n",
       "75%                  4.000000          4.000000          4.000000   \n",
       "max                  5.000000          5.000000          5.000000   \n",
       "\n",
       "       Baggage handling  Checkin service  Inflight service    Cleanliness  \\\n",
       "count     103904.000000    103904.000000     103904.000000  103904.000000   \n",
       "mean           3.631833         3.304290          3.640428       3.286351   \n",
       "std            1.180903         1.265396          1.175663       1.312273   \n",
       "min            1.000000         0.000000          0.000000       0.000000   \n",
       "25%            3.000000         3.000000          3.000000       2.000000   \n",
       "50%            4.000000         3.000000          4.000000       3.000000   \n",
       "75%            5.000000         4.000000          5.000000       4.000000   \n",
       "max            5.000000         5.000000          5.000000       5.000000   \n",
       "\n",
       "       Departure Delay in Minutes  Arrival Delay in Minutes  \n",
       "count               103904.000000             103594.000000  \n",
       "mean                    14.815618                 15.178678  \n",
       "std                     38.230901                 38.698682  \n",
       "min                      0.000000                  0.000000  \n",
       "25%                      0.000000                  0.000000  \n",
       "50%                      0.000000                  0.000000  \n",
       "75%                     12.000000                 13.000000  \n",
       "max                   1592.000000               1584.000000  "
      ]
     },
     "execution_count": 37,
     "metadata": {},
     "output_type": "execute_result"
    }
   ],
   "source": [
    "df.describe()"
   ]
  },
  {
   "cell_type": "code",
   "execution_count": 38,
   "id": "6633ea08",
   "metadata": {},
   "outputs": [],
   "source": [
    "df.dropna(inplace=True)"
   ]
  },
  {
   "cell_type": "markdown",
   "id": "668da5f1",
   "metadata": {},
   "source": [
    "### Check adequacy"
   ]
  },
  {
   "cell_type": "code",
   "execution_count": 39,
   "id": "413d6e92",
   "metadata": {},
   "outputs": [
    {
     "name": "stdout",
     "output_type": "stream",
     "text": [
      "898373.2660270258 0.0\n"
     ]
    }
   ],
   "source": [
    "from factor_analyzer.factor_analyzer import calculate_bartlett_sphericity\n",
    "chi_squared, p_value=calculate_bartlett_sphericity(df)\n",
    "print(chi_squared,p_value)"
   ]
  },
  {
   "cell_type": "code",
   "execution_count": 40,
   "id": "d8c8321a",
   "metadata": {},
   "outputs": [
    {
     "data": {
      "text/plain": [
       "0.7321057281420892"
      ]
     },
     "execution_count": 40,
     "metadata": {},
     "output_type": "execute_result"
    }
   ],
   "source": [
    "from factor_analyzer.factor_analyzer import calculate_kmo\n",
    "kmo_all, kmo_model = calculate_kmo(df)\n",
    "kmo_model"
   ]
  },
  {
   "cell_type": "markdown",
   "id": "e078200e",
   "metadata": {},
   "source": [
    "### Remove co-linearity"
   ]
  },
  {
   "cell_type": "code",
   "execution_count": 41,
   "id": "458f6c52",
   "metadata": {},
   "outputs": [
    {
     "data": {
      "image/png": "[encoded data removed]",
      "text/plain": [
       "<Figure size 1440x720 with 2 Axes>"
      ]
     },
     "metadata": {
      "needs_background": "light"
     },
     "output_type": "display_data"
    }
   ],
   "source": [
    "import seaborn as sns\n",
    "plt.figure(figsize=(20,10))\n",
    "c= df.corr()\n",
    "sns.heatmap(c, annot=True);"
   ]
  },
  {
   "cell_type": "code",
   "execution_count": 42,
   "id": "8e6fa42d",
   "metadata": {},
   "outputs": [],
   "source": [
    "df.drop(columns=['Arrival Delay in Minutes'],inplace=True)"
   ]
  },
  {
   "cell_type": "markdown",
   "id": "42dee298",
   "metadata": {},
   "source": [
    "### Scale"
   ]
  },
  {
   "cell_type": "code",
   "execution_count": 43,
   "id": "9b9c1b70",
   "metadata": {},
   "outputs": [],
   "source": [
    "from sklearn.preprocessing import StandardScaler\n",
    "scaler = StandardScaler()"
   ]
  },
  {
   "cell_type": "code",
   "execution_count": 44,
   "id": "d8e8071f",
   "metadata": {},
   "outputs": [],
   "source": [
    "df_scaled = scaler.fit_transform(df)"
   ]
  },
  {
   "cell_type": "code",
   "execution_count": 45,
   "id": "eee3dfe8",
   "metadata": {
    "scrolled": true
   },
   "outputs": [
    {
     "data": {
      "text/plain": [
       "array([[-1.7455419 , -0.73130527,  0.20352096, ...,  1.15621132,\n",
       "         1.30591327,  0.26896611],\n",
       "       [-0.95152625, -0.95691613,  0.20352096, ...,  0.30557993,\n",
       "        -1.74243151, -0.36068159],\n",
       "       [-0.88535828, -0.04745369, -0.54957057, ...,  0.30557993,\n",
       "         1.30591327, -0.38691691],\n",
       "       ...,\n",
       "       [-0.6206864 ,  0.80786215, -1.30266211, ...,  1.15621132,\n",
       "         0.54382707, -0.20326967],\n",
       "       [-1.15003016, -0.18983921, -1.30266211, ...,  0.30557993,\n",
       "        -1.74243151, -0.38691691],\n",
       "       [-0.81919031,  0.53512369, -1.30266211, ..., -0.54505146,\n",
       "        -1.74243151, -0.38691691]])"
      ]
     },
     "execution_count": 45,
     "metadata": {},
     "output_type": "execute_result"
    }
   ],
   "source": [
    "df_scaled"
   ]
  },
  {
   "cell_type": "markdown",
   "id": "cfa58bfd",
   "metadata": {},
   "source": [
    "### Determine number of factors"
   ]
  },
  {
   "cell_type": "code",
   "execution_count": 113,
   "id": "194114c5",
   "metadata": {},
   "outputs": [
    {
     "data": {
      "text/plain": [
       "FactorAnalyzer(rotation_kwargs={})"
      ]
     },
     "execution_count": 113,
     "metadata": {},
     "output_type": "execute_result"
    }
   ],
   "source": [
    "from factor_analyzer.factor_analyzer import FactorAnalyzer \n",
    "fa = FactorAnalyzer()\n",
    "fa.fit(df_scaled)"
   ]
  },
  {
   "cell_type": "code",
   "execution_count": 114,
   "id": "32e5dc1d",
   "metadata": {},
   "outputs": [
    {
     "name": "stdout",
     "output_type": "stream",
     "text": [
      "[3.85645392 2.36269445 2.17873633 1.2452376  1.00854753 0.96110044\n",
      " 0.92710648 0.89023208 0.68985831 0.53390034 0.47893853 0.44681807\n",
      " 0.36666766 0.32321639 0.29463305 0.25070645 0.18515239] [ 3.47165059  1.96826477  1.83265226  0.50535314  0.26732888  0.13144335\n",
      "  0.12709458  0.09199444  0.0717648   0.02040918 -0.00571596 -0.02612819\n",
      " -0.03914439 -0.10424381 -0.2077003  -0.21680574 -0.33053797]\n"
     ]
    }
   ],
   "source": [
    "# Check Eigenvalues\n",
    "ev, v = fa.get_eigenvalues()\n",
    "print (ev, v)"
   ]
  },
  {
   "cell_type": "markdown",
   "id": "5635e607",
   "metadata": {},
   "source": [
    "Eigenvalues >1 mean that the factor explains variance for at least a single feature."
   ]
  },
  {
   "cell_type": "code",
   "execution_count": 115,
   "id": "dd49b508",
   "metadata": {},
   "outputs": [
    {
     "data": {
      "text/plain": [
       "<matplotlib.lines.Line2D at 0x12c5b7be0>"
      ]
     },
     "execution_count": 115,
     "metadata": {},
     "output_type": "execute_result"
    },
    {
     "data": {
      "image/png": "[encoded data removed]",
      "text/plain": [
       "<Figure size 432x288 with 1 Axes>"
      ]
     },
     "metadata": {
      "needs_background": "light"
     },
     "output_type": "display_data"
    }
   ],
   "source": [
    "# Plot scree - use elbow method to identify optimum number of features\n",
    "plt.scatter(range(1,df_scaled.shape[1]+1),ev)\n",
    "plt.plot(range(1,df_scaled.shape[1]+1),ev) # plot draws the line\n",
    "plt.title('Scree Plot')\n",
    "plt.xlabel('Factors')\n",
    "plt.ylabel('Eigenvalue')\n",
    "plt.axhline(y=1, c='k')"
   ]
  },
  {
   "cell_type": "markdown",
   "id": "74ca3a38",
   "metadata": {},
   "source": [
    "### Drop low communalities"
   ]
  },
  {
   "cell_type": "markdown",
   "id": "f3fb5ceb",
   "metadata": {},
   "source": [
    "The communalities of the variables/features are inspected to see if the variables are well defined by the solution. Communalities indicate the percent of variance in a variable that overlaps variance in the factors. Ideally, we should drop variables with low communalities, for example, exclude those variables with <0.2 communalities. If the communality is low this suggests that the variable has little in common with the other variables and is likely a target for elimination."
   ]
  },
  {
   "cell_type": "code",
   "execution_count": 128,
   "id": "d00fe0cc",
   "metadata": {},
   "outputs": [
    {
     "data": {
      "text/html": [
       "<div>\n",
       "<style scoped>\n",
       "    .dataframe tbody tr th:only-of-type {\n",
       "        vertical-align: middle;\n",
       "    }\n",
       "\n",
       "    .dataframe tbody tr th {\n",
       "        vertical-align: top;\n",
       "    }\n",
       "\n",
       "    .dataframe thead th {\n",
       "        text-align: right;\n",
       "    }\n",
       "</style>\n",
       "<table border=\"1\" class=\"dataframe\">\n",
       "  <thead>\n",
       "    <tr style=\"text-align: right;\">\n",
       "      <th></th>\n",
       "      <th>0</th>\n",
       "    </tr>\n",
       "  </thead>\n",
       "  <tbody>\n",
       "    <tr>\n",
       "      <th>Age</th>\n",
       "      <td>0.022949</td>\n",
       "    </tr>\n",
       "    <tr>\n",
       "      <th>Flight Distance</th>\n",
       "      <td>0.023417</td>\n",
       "    </tr>\n",
       "    <tr>\n",
       "      <th>Checkin service</th>\n",
       "      <td>0.083648</td>\n",
       "    </tr>\n",
       "    <tr>\n",
       "      <th>Departure Delay in Minutes</th>\n",
       "      <td>0.001127</td>\n",
       "    </tr>\n",
       "  </tbody>\n",
       "</table>\n",
       "</div>"
      ],
      "text/plain": [
       "                                   0\n",
       "Age                         0.022949\n",
       "Flight Distance             0.023417\n",
       "Checkin service             0.083648\n",
       "Departure Delay in Minutes  0.001127"
      ]
     },
     "execution_count": 128,
     "metadata": {},
     "output_type": "execute_result"
    }
   ],
   "source": [
    "communalities = pd.DataFrame(fa.get_communalities(), index=df.columns)\n",
    "communalities[communalities[0]<0.2]"
   ]
  },
  {
   "cell_type": "code",
   "execution_count": 132,
   "id": "c272599a",
   "metadata": {},
   "outputs": [],
   "source": [
    "# Drop low communalities\n",
    "df.drop(columns=['Age','Flight Distance', 'Checkin service','Departure Delay in Minutes'], inplace=True)"
   ]
  },
  {
   "cell_type": "code",
   "execution_count": 133,
   "id": "37df3c32",
   "metadata": {},
   "outputs": [],
   "source": [
    "df_scaled = scaler.fit_transform(df)"
   ]
  },
  {
   "cell_type": "markdown",
   "id": "f662981b",
   "metadata": {},
   "source": [
    "### Factor Analysis with 5 factors"
   ]
  },
  {
   "cell_type": "code",
   "execution_count": 148,
   "id": "3f7b2601",
   "metadata": {},
   "outputs": [
    {
     "data": {
      "text/plain": [
       "FactorAnalyzer(n_factors=5, rotation_kwargs={})"
      ]
     },
     "execution_count": 148,
     "metadata": {},
     "output_type": "execute_result"
    }
   ],
   "source": [
    "fa = FactorAnalyzer(n_factors=5 )\n",
    "fa.fit(df_scaled)"
   ]
  },
  {
   "cell_type": "code",
   "execution_count": 150,
   "id": "52ca287b",
   "metadata": {},
   "outputs": [
    {
     "data": {
      "text/html": [
       "<div>\n",
       "<style scoped>\n",
       "    .dataframe tbody tr th:only-of-type {\n",
       "        vertical-align: middle;\n",
       "    }\n",
       "\n",
       "    .dataframe tbody tr th {\n",
       "        vertical-align: top;\n",
       "    }\n",
       "\n",
       "    .dataframe thead th {\n",
       "        text-align: right;\n",
       "    }\n",
       "</style>\n",
       "<table border=\"1\" class=\"dataframe\">\n",
       "  <thead>\n",
       "    <tr style=\"text-align: right;\">\n",
       "      <th></th>\n",
       "      <th>0</th>\n",
       "      <th>1</th>\n",
       "      <th>2</th>\n",
       "      <th>3</th>\n",
       "      <th>4</th>\n",
       "    </tr>\n",
       "  </thead>\n",
       "  <tbody>\n",
       "    <tr>\n",
       "      <th>Inflight wifi service</th>\n",
       "      <td>0.023829</td>\n",
       "      <td>0.024875</td>\n",
       "      <td>0.743685</td>\n",
       "      <td>0.085535</td>\n",
       "      <td>0.050695</td>\n",
       "    </tr>\n",
       "    <tr>\n",
       "      <th>Departure/Arrival time convenient</th>\n",
       "      <td>0.003333</td>\n",
       "      <td>0.080930</td>\n",
       "      <td>-0.026600</td>\n",
       "      <td>0.042128</td>\n",
       "      <td>0.723853</td>\n",
       "    </tr>\n",
       "    <tr>\n",
       "      <th>Ease of Online booking</th>\n",
       "      <td>-0.092043</td>\n",
       "      <td>-0.064800</td>\n",
       "      <td>0.784558</td>\n",
       "      <td>0.070372</td>\n",
       "      <td>0.190320</td>\n",
       "    </tr>\n",
       "    <tr>\n",
       "      <th>Gate location</th>\n",
       "      <td>0.040208</td>\n",
       "      <td>-0.041525</td>\n",
       "      <td>0.171840</td>\n",
       "      <td>-0.110239</td>\n",
       "      <td>0.543491</td>\n",
       "    </tr>\n",
       "    <tr>\n",
       "      <th>Food and drink</th>\n",
       "      <td>0.816172</td>\n",
       "      <td>-0.129405</td>\n",
       "      <td>0.061930</td>\n",
       "      <td>-0.089959</td>\n",
       "      <td>-0.027157</td>\n",
       "    </tr>\n",
       "    <tr>\n",
       "      <th>Online boarding</th>\n",
       "      <td>0.053785</td>\n",
       "      <td>0.025120</td>\n",
       "      <td>0.187732</td>\n",
       "      <td>0.897825</td>\n",
       "      <td>-0.068932</td>\n",
       "    </tr>\n",
       "    <tr>\n",
       "      <th>Seat comfort</th>\n",
       "      <td>0.739123</td>\n",
       "      <td>-0.033487</td>\n",
       "      <td>-0.119328</td>\n",
       "      <td>0.195750</td>\n",
       "      <td>0.075092</td>\n",
       "    </tr>\n",
       "    <tr>\n",
       "      <th>Inflight entertainment</th>\n",
       "      <td>0.773240</td>\n",
       "      <td>0.356733</td>\n",
       "      <td>0.103625</td>\n",
       "      <td>-0.127151</td>\n",
       "      <td>-0.087210</td>\n",
       "    </tr>\n",
       "    <tr>\n",
       "      <th>On-board service</th>\n",
       "      <td>0.002768</td>\n",
       "      <td>0.707790</td>\n",
       "      <td>-0.066106</td>\n",
       "      <td>0.064624</td>\n",
       "      <td>0.038164</td>\n",
       "    </tr>\n",
       "    <tr>\n",
       "      <th>Leg room service</th>\n",
       "      <td>-0.002045</td>\n",
       "      <td>0.464118</td>\n",
       "      <td>0.149356</td>\n",
       "      <td>-0.013769</td>\n",
       "      <td>-0.101091</td>\n",
       "    </tr>\n",
       "    <tr>\n",
       "      <th>Baggage handling</th>\n",
       "      <td>-0.042295</td>\n",
       "      <td>0.784941</td>\n",
       "      <td>-0.063777</td>\n",
       "      <td>-0.007449</td>\n",
       "      <td>0.064117</td>\n",
       "    </tr>\n",
       "    <tr>\n",
       "      <th>Inflight service</th>\n",
       "      <td>-0.044279</td>\n",
       "      <td>0.825831</td>\n",
       "      <td>-0.079839</td>\n",
       "      <td>-0.017698</td>\n",
       "      <td>0.073363</td>\n",
       "    </tr>\n",
       "    <tr>\n",
       "      <th>Cleanliness</th>\n",
       "      <td>0.869487</td>\n",
       "      <td>-0.048549</td>\n",
       "      <td>-0.059591</td>\n",
       "      <td>0.033480</td>\n",
       "      <td>0.044373</td>\n",
       "    </tr>\n",
       "  </tbody>\n",
       "</table>\n",
       "</div>"
      ],
      "text/plain": [
       "                                          0         1         2         3  \\\n",
       "Inflight wifi service              0.023829  0.024875  0.743685  0.085535   \n",
       "Departure/Arrival time convenient  0.003333  0.080930 -0.026600  0.042128   \n",
       "Ease of Online booking            -0.092043 -0.064800  0.784558  0.070372   \n",
       "Gate location                      0.040208 -0.041525  0.171840 -0.110239   \n",
       "Food and drink                     0.816172 -0.129405  0.061930 -0.089959   \n",
       "Online boarding                    0.053785  0.025120  0.187732  0.897825   \n",
       "Seat comfort                       0.739123 -0.033487 -0.119328  0.195750   \n",
       "Inflight entertainment             0.773240  0.356733  0.103625 -0.127151   \n",
       "On-board service                   0.002768  0.707790 -0.066106  0.064624   \n",
       "Leg room service                  -0.002045  0.464118  0.149356 -0.013769   \n",
       "Baggage handling                  -0.042295  0.784941 -0.063777 -0.007449   \n",
       "Inflight service                  -0.044279  0.825831 -0.079839 -0.017698   \n",
       "Cleanliness                        0.869487 -0.048549 -0.059591  0.033480   \n",
       "\n",
       "                                          4  \n",
       "Inflight wifi service              0.050695  \n",
       "Departure/Arrival time convenient  0.723853  \n",
       "Ease of Online booking             0.190320  \n",
       "Gate location                      0.543491  \n",
       "Food and drink                    -0.027157  \n",
       "Online boarding                   -0.068932  \n",
       "Seat comfort                       0.075092  \n",
       "Inflight entertainment            -0.087210  \n",
       "On-board service                   0.038164  \n",
       "Leg room service                  -0.101091  \n",
       "Baggage handling                   0.064117  \n",
       "Inflight service                   0.073363  \n",
       "Cleanliness                        0.044373  "
      ]
     },
     "execution_count": 150,
     "metadata": {},
     "output_type": "execute_result"
    }
   ],
   "source": [
    "pd.DataFrame(fa.loadings_,index=df.columns)"
   ]
  },
  {
   "cell_type": "markdown",
   "id": "96fef8c9",
   "metadata": {},
   "source": [
    "As a rule of thumb, only variables with loading of 0.32 and above are interpreted. The greater the loading, the more the vrialbe is a pure measure of the factor. Comrey and Lee (1992) suggest that loadings of:\n",
    "\n",
    "->71% (50% overlapping variance) are considered excellent;  \n",
    "->63% (40% overlapping variance) very good;  \n",
    "->55% (30% overlapping variance) good;  \n",
    "->45% (20% overlapping variance) fair;  \n",
    "-<32% (10% overlapping variance) poor;"
   ]
  },
  {
   "cell_type": "code",
   "execution_count": 151,
   "id": "a1ca7333",
   "metadata": {},
   "outputs": [
    {
     "data": {
      "image/png": "[encoded data removed]",
      "text/plain": [
       "<Figure size 432x288 with 2 Axes>"
      ]
     },
     "metadata": {
      "needs_background": "light"
     },
     "output_type": "display_data"
    }
   ],
   "source": [
    "Z=np.abs(fa.loadings_)\n",
    "fig, ax = plt.subplots()\n",
    "c = ax.pcolor(Z)\n",
    "fig.colorbar(c, ax=ax)\n",
    "ax.set_yticks(np.arange(fa.loadings_.shape[0])+0.5, minor=False)\n",
    "ax.set_xticks(np.arange(fa.loadings_.shape[1])+0.5, minor=False)\n",
    "ax.set_yticklabels(df.columns.values)\n",
    "ax.set_xticklabels(np.arange(1,6))\n",
    "plt.show()"
   ]
  },
  {
   "cell_type": "markdown",
   "id": "e3552272",
   "metadata": {},
   "source": [
    "- Factor 1 has high loading for food and drink, cleanliness, seat comfort and inflight entertainment\n",
    "- Factor 2 has high loading for inflight service, baggage handling, onboard service\n",
    "- Factor 3 has high loading for inlight wifi service, ease of online booking, online boarding"
   ]
  },
  {
   "cell_type": "code",
   "execution_count": 112,
   "id": "4f242126",
   "metadata": {},
   "outputs": [
    {
     "data": {
      "text/html": [
       "<div>\n",
       "<style scoped>\n",
       "    .dataframe tbody tr th:only-of-type {\n",
       "        vertical-align: middle;\n",
       "    }\n",
       "\n",
       "    .dataframe tbody tr th {\n",
       "        vertical-align: top;\n",
       "    }\n",
       "\n",
       "    .dataframe thead th {\n",
       "        text-align: right;\n",
       "    }\n",
       "</style>\n",
       "<table border=\"1\" class=\"dataframe\">\n",
       "  <thead>\n",
       "    <tr style=\"text-align: right;\">\n",
       "      <th></th>\n",
       "      <th>0</th>\n",
       "      <th>1</th>\n",
       "      <th>2</th>\n",
       "      <th>3</th>\n",
       "      <th>4</th>\n",
       "    </tr>\n",
       "  </thead>\n",
       "  <tbody>\n",
       "    <tr>\n",
       "      <th>SS Loadings</th>\n",
       "      <td>2.684895</td>\n",
       "      <td>2.405679</td>\n",
       "      <td>1.496201</td>\n",
       "      <td>0.947065</td>\n",
       "      <td>0.873124</td>\n",
       "    </tr>\n",
       "    <tr>\n",
       "      <th>Proportion Var</th>\n",
       "      <td>0.157935</td>\n",
       "      <td>0.141511</td>\n",
       "      <td>0.088012</td>\n",
       "      <td>0.055710</td>\n",
       "      <td>0.051360</td>\n",
       "    </tr>\n",
       "    <tr>\n",
       "      <th>Cum Var</th>\n",
       "      <td>0.157935</td>\n",
       "      <td>0.299446</td>\n",
       "      <td>0.387457</td>\n",
       "      <td>0.443167</td>\n",
       "      <td>0.494527</td>\n",
       "    </tr>\n",
       "  </tbody>\n",
       "</table>\n",
       "</div>"
      ],
      "text/plain": [
       "                       0         1         2         3         4\n",
       "SS Loadings     2.684895  2.405679  1.496201  0.947065  0.873124\n",
       "Proportion Var  0.157935  0.141511  0.088012  0.055710  0.051360\n",
       "Cum Var         0.157935  0.299446  0.387457  0.443167  0.494527"
      ]
     },
     "execution_count": 112,
     "metadata": {},
     "output_type": "execute_result"
    }
   ],
   "source": [
    "pd.DataFrame(fa.get_factor_variance(), index=['SS Loadings','Proportion Var','Cum Var'])\n"
   ]
  },
  {
   "cell_type": "markdown",
   "id": "9581f027",
   "metadata": {},
   "source": [
    "- Five factors explain 49% of the variance"
   ]
  },
  {
   "cell_type": "markdown",
   "id": "6a956f64",
   "metadata": {},
   "source": [
    "### Cronbach Alpha"
   ]
  },
  {
   "cell_type": "markdown",
   "id": "0086c87b",
   "metadata": {},
   "source": [
    "Cronbach alpha can be used to measure whether or not the variables of a factor form a “coherent” and reliable factor. A value above 0.6 for the alpha is in practice deemed acceptable. Cronbach’s alpha is a measure of internal consistency, that is, how closely related a set of items are as a group.    It is considered to be a measure of scale reliability. "
   ]
  },
  {
   "cell_type": "code",
   "execution_count": 145,
   "id": "756b4564",
   "metadata": {},
   "outputs": [
    {
     "name": "stdout",
     "output_type": "stream",
     "text": [
      "\u001b[33mDEPRECATION: Configuring installation scheme with distutils config files is deprecated and will no longer work in the near future. If you are using a Homebrew or Linuxbrew Python, please see discussion at https://github.com/Homebrew/homebrew-core/issues/76621\u001b[0m\u001b[33m\n",
      "\u001b[0mCollecting pingouin\n",
      "  Downloading pingouin-0.5.3-py3-none-any.whl (198 kB)\n",
      "\u001b[2K     \u001b[90m━━━━━━━━━━━━━━━━━━━━━━━━━━━━━━━━━━━━━━━\u001b[0m \u001b[32m198.6/198.6 kB\u001b[0m \u001b[31m3.8 MB/s\u001b[0m eta \u001b[36m0:00:00\u001b[0m00:01\u001b[0m\n",
      "\u001b[?25hRequirement already satisfied: matplotlib>=3.0.2 in /usr/local/lib/python3.9/site-packages (from pingouin) (3.3.2)\n",
      "Requirement already satisfied: statsmodels>=0.13 in /usr/local/lib/python3.9/site-packages (from pingouin) (0.13.1)\n",
      "Collecting pandas-flavor>=0.2.0\n",
      "  Downloading pandas_flavor-0.5.0-py3-none-any.whl (7.1 kB)\n",
      "Collecting outdated\n",
      "  Downloading outdated-0.2.2-py2.py3-none-any.whl (7.5 kB)\n",
      "Requirement already satisfied: tabulate in /usr/local/lib/python3.9/site-packages (from pingouin) (0.8.9)\n",
      "Requirement already satisfied: scikit-learn in /usr/local/lib/python3.9/site-packages (from pingouin) (1.0.2)\n",
      "Requirement already satisfied: scipy>=1.7 in /usr/local/lib/python3.9/site-packages (from pingouin) (1.7.3)\n",
      "Requirement already satisfied: seaborn>=0.11 in /usr/local/lib/python3.9/site-packages (from pingouin) (0.11.0)\n",
      "Requirement already satisfied: pandas>=1.0 in /usr/local/lib/python3.9/site-packages (from pingouin) (1.5.2)\n",
      "Requirement already satisfied: numpy>=1.19 in /usr/local/lib/python3.9/site-packages (from pingouin) (1.22.4)\n",
      "Requirement already satisfied: kiwisolver>=1.0.1 in /usr/local/lib/python3.9/site-packages (from matplotlib>=3.0.2->pingouin) (1.3.2)\n",
      "Requirement already satisfied: cycler>=0.10 in /usr/local/lib/python3.9/site-packages (from matplotlib>=3.0.2->pingouin) (0.11.0)\n",
      "Requirement already satisfied: python-dateutil>=2.1 in /usr/local/lib/python3.9/site-packages (from matplotlib>=3.0.2->pingouin) (2.8.2)\n",
      "Requirement already satisfied: certifi>=2020.06.20 in /usr/local/lib/python3.9/site-packages (from matplotlib>=3.0.2->pingouin) (2021.10.8)\n",
      "Requirement already satisfied: pyparsing!=2.0.4,!=2.1.2,!=2.1.6,>=2.0.3 in /usr/local/lib/python3.9/site-packages (from matplotlib>=3.0.2->pingouin) (3.0.6)\n",
      "Requirement already satisfied: pillow>=6.2.0 in /usr/local/lib/python3.9/site-packages (from matplotlib>=3.0.2->pingouin) (9.3.0)\n",
      "Requirement already satisfied: pytz>=2020.1 in /usr/local/lib/python3.9/site-packages (from pandas>=1.0->pingouin) (2021.3)\n",
      "Collecting xarray\n",
      "  Downloading xarray-2023.4.2-py3-none-any.whl (979 kB)\n",
      "\u001b[2K     \u001b[90m━━━━━━━━━━━━━━━━━━━━━━━━━━━━━━━━━━━━━━━\u001b[0m \u001b[32m979.5/979.5 kB\u001b[0m \u001b[31m6.9 MB/s\u001b[0m eta \u001b[36m0:00:00\u001b[0m00:01\u001b[0m00:01\u001b[0m\n",
      "\u001b[?25hCollecting lazy-loader>=0.1\n",
      "  Downloading lazy_loader-0.2-py3-none-any.whl (8.6 kB)\n",
      "Requirement already satisfied: patsy>=0.5.2 in /usr/local/lib/python3.9/site-packages (from statsmodels>=0.13->pingouin) (0.5.2)\n",
      "Collecting littleutils\n",
      "  Downloading littleutils-0.2.2.tar.gz (6.6 kB)\n",
      "  Preparing metadata (setup.py) ... \u001b[?25ldone\n",
      "\u001b[?25hRequirement already satisfied: setuptools>=44 in /usr/local/lib/python3.9/site-packages (from outdated->pingouin) (62.3.2)\n",
      "Requirement already satisfied: requests in /usr/local/lib/python3.9/site-packages (from outdated->pingouin) (2.25.1)\n",
      "Requirement already satisfied: threadpoolctl>=2.0.0 in /usr/local/lib/python3.9/site-packages (from scikit-learn->pingouin) (3.1.0)\n",
      "Requirement already satisfied: joblib>=0.11 in /usr/local/lib/python3.9/site-packages (from scikit-learn->pingouin) (1.2.0)\n",
      "Requirement already satisfied: six in /usr/local/lib/python3.9/site-packages (from patsy>=0.5.2->statsmodels>=0.13->pingouin) (1.16.0)\n",
      "Requirement already satisfied: idna<3,>=2.5 in /usr/local/lib/python3.9/site-packages (from requests->outdated->pingouin) (2.10)\n",
      "Requirement already satisfied: urllib3<1.27,>=1.21.1 in /usr/local/lib/python3.9/site-packages (from requests->outdated->pingouin) (1.26.7)\n",
      "Requirement already satisfied: chardet<5,>=3.0.2 in /usr/local/lib/python3.9/site-packages (from requests->outdated->pingouin) (4.0.0)\n",
      "Requirement already satisfied: packaging>=21.3 in /usr/local/lib/python3.9/site-packages (from xarray->pandas-flavor>=0.2.0->pingouin) (21.3)\n",
      "Building wheels for collected packages: littleutils\n",
      "  Building wheel for littleutils (setup.py) ... \u001b[?25ldone\n",
      "\u001b[?25h  Created wheel for littleutils: filename=littleutils-0.2.2-py3-none-any.whl size=7028 sha256=514b2cef0c5c9bb06aa50ff021380975a12358170eda92b0dd6b84b46855ec0b\n",
      "  Stored in directory: /Users/jennatan/Library/Caches/pip/wheels/04/bb/0d/2d02ec45f29c48d6192476bfb59c5a0e64b605e7212374dd15\n",
      "Successfully built littleutils\n",
      "Installing collected packages: littleutils, lazy-loader, outdated, xarray, pandas-flavor, pingouin\n",
      "\u001b[33m  DEPRECATION: Configuring installation scheme with distutils config files is deprecated and will no longer work in the near future. If you are using a Homebrew or Linuxbrew Python, please see discussion at https://github.com/Homebrew/homebrew-core/issues/76621\u001b[0m\u001b[33m\n",
      "\u001b[0m\u001b[33m  DEPRECATION: Configuring installation scheme with distutils config files is deprecated and will no longer work in the near future. If you are using a Homebrew or Linuxbrew Python, please see discussion at https://github.com/Homebrew/homebrew-core/issues/76621\u001b[0m\u001b[33m\n",
      "\u001b[0m\u001b[33m  DEPRECATION: Configuring installation scheme with distutils config files is deprecated and will no longer work in the near future. If you are using a Homebrew or Linuxbrew Python, please see discussion at https://github.com/Homebrew/homebrew-core/issues/76621\u001b[0m\u001b[33m\n",
      "\u001b[0m\u001b[33m  DEPRECATION: Configuring installation scheme with distutils config files is deprecated and will no longer work in the near future. If you are using a Homebrew or Linuxbrew Python, please see discussion at https://github.com/Homebrew/homebrew-core/issues/76621\u001b[0m\u001b[33m\n",
      "\u001b[0m\u001b[33m  DEPRECATION: Configuring installation scheme with distutils config files is deprecated and will no longer work in the near future. If you are using a Homebrew or Linuxbrew Python, please see discussion at https://github.com/Homebrew/homebrew-core/issues/76621\u001b[0m\u001b[33m\n",
      "\u001b[0m\u001b[33m  DEPRECATION: Configuring installation scheme with distutils config files is deprecated and will no longer work in the near future. If you are using a Homebrew or Linuxbrew Python, please see discussion at https://github.com/Homebrew/homebrew-core/issues/76621\u001b[0m\u001b[33m\n",
      "\u001b[0m\u001b[33mDEPRECATION: Configuring installation scheme with distutils config files is deprecated and will no longer work in the near future. If you are using a Homebrew or Linuxbrew Python, please see discussion at https://github.com/Homebrew/homebrew-core/issues/76621\u001b[0m\u001b[33m\n",
      "\u001b[0mSuccessfully installed lazy-loader-0.2 littleutils-0.2.2 outdated-0.2.2 pandas-flavor-0.5.0 pingouin-0.5.3 xarray-2023.4.2\n",
      "\n",
      "\u001b[1m[\u001b[0m\u001b[34;49mnotice\u001b[0m\u001b[1;39;49m]\u001b[0m\u001b[39;49m A new release of pip available: \u001b[0m\u001b[31;49m22.1.2\u001b[0m\u001b[39;49m -> \u001b[0m\u001b[32;49m23.1.2\u001b[0m\n",
      "\u001b[1m[\u001b[0m\u001b[34;49mnotice\u001b[0m\u001b[1;39;49m]\u001b[0m\u001b[39;49m To update, run: \u001b[0m\u001b[32;49m/usr/local/opt/python@3.9/bin/python3.9 -m pip install --upgrade pip\u001b[0m\n",
      "(0.8762602791423287, array([0.875, 0.877])) (0.7943878545715906, array([0.792, 0.797])) (0.7272711215263108, array([0.725, 0.73 ]))\n"
     ]
    }
   ],
   "source": [
    "!pip install pingouin\n",
    "import pingouin as pg\n",
    "\n",
    "#Create the factors\n",
    "factor1 = df[['Food and drink', 'Seat comfort', 'Inflight entertainment', 'Cleanliness']]\n",
    "factor2 = df[['On-board service', 'Baggage handling', 'Inflight service']]\n",
    "factor3 = df[['Inflight wifi service', 'Online boarding', 'Ease of Online booking', 'Gate location']]\n",
    "#Get cronbach alpha\n",
    "factor1_alpha = pg.cronbach_alpha(factor1)\n",
    "factor2_alpha = pg.cronbach_alpha(factor2)\n",
    "factor3_alpha = pg.cronbach_alpha(factor3)\n",
    "print(factor1_alpha, factor2_alpha, factor3_alpha)"
   ]
  },
  {
   "cell_type": "markdown",
   "id": "01a72235",
   "metadata": {},
   "source": [
    "The alphas are evaluated at 0.87, 0.79 and 0.76, which indicates that they are useful and coherent. We could use these new factors as variable for other analysis or for prediction."
   ]
  },
  {
   "cell_type": "markdown",
   "id": "7008b56a",
   "metadata": {},
   "source": [
    "### Optimise model with rotation"
   ]
  },
  {
   "cell_type": "markdown",
   "id": "e21bf83d",
   "metadata": {},
   "source": [
    "To optimise the model we want high loadings for features that are distinct across factors. In our dataset the features are distinct from each other across factors already - we want to see if we can increase the loading values while still keeping Cronbach's alpha above 0.7"
   ]
  },
  {
   "cell_type": "markdown",
   "id": "dcf156b0",
   "metadata": {},
   "source": [
    "#### Rotation"
   ]
  },
  {
   "cell_type": "markdown",
   "id": "bcc97d05",
   "metadata": {},
   "source": [
    "Rotations simplify the interpretation of factor analysis by creating factors that are easier to understand and have a clearer relationship with the original variables. This is because the rotated factors have high factor loadings for a smaller set of variables, making it easier to identify the underlying structure in the data.  \n",
    "  \n",
    "\n",
    "Orthogonal rotations, such as the Varimax and Quartimax rotations, produce factors that are uncorrelated with each other. These rotations are useful when the factors are conceptually distinct and do not overlap. The Varimax rotation is the most commonly used orthogonal rotation in factor analysis.\n",
    "\n",
    "Oblique rotations, such as the Promax and Oblimin rotations, produce factors that are correlated with each other. These rotations are useful when the factors are conceptually related and overlap. The Promax rotation is the most commonly used oblique rotation in factor analysis.\n",
    "\n",
    "Rotations also help to improve the fit of the factor model by reducing the number of cross-loadings, or situations where a variable loads highly on more than one factor. Cross-loadings can make it difficult to interpret the factors and may result in an unstable factor solution."
   ]
  },
  {
   "cell_type": "code",
   "execution_count": 154,
   "id": "d2d02f43",
   "metadata": {},
   "outputs": [
    {
     "data": {
      "text/html": [
       "<div>\n",
       "<style scoped>\n",
       "    .dataframe tbody tr th:only-of-type {\n",
       "        vertical-align: middle;\n",
       "    }\n",
       "\n",
       "    .dataframe tbody tr th {\n",
       "        vertical-align: top;\n",
       "    }\n",
       "\n",
       "    .dataframe thead th {\n",
       "        text-align: right;\n",
       "    }\n",
       "</style>\n",
       "<table border=\"1\" class=\"dataframe\">\n",
       "  <thead>\n",
       "    <tr style=\"text-align: right;\">\n",
       "      <th></th>\n",
       "      <th>0</th>\n",
       "      <th>1</th>\n",
       "      <th>2</th>\n",
       "      <th>3</th>\n",
       "      <th>4</th>\n",
       "    </tr>\n",
       "  </thead>\n",
       "  <tbody>\n",
       "    <tr>\n",
       "      <th>Inflight wifi service</th>\n",
       "      <td>0.111923</td>\n",
       "      <td>0.131437</td>\n",
       "      <td>0.697033</td>\n",
       "      <td>0.327321</td>\n",
       "      <td>0.204603</td>\n",
       "    </tr>\n",
       "    <tr>\n",
       "      <th>Departure/Arrival time convenient</th>\n",
       "      <td>-0.008464</td>\n",
       "      <td>0.056461</td>\n",
       "      <td>0.132285</td>\n",
       "      <td>0.698292</td>\n",
       "      <td>0.040833</td>\n",
       "    </tr>\n",
       "    <tr>\n",
       "      <th>Ease of Online booking</th>\n",
       "      <td>-0.018511</td>\n",
       "      <td>0.027640</td>\n",
       "      <td>0.747420</td>\n",
       "      <td>0.479608</td>\n",
       "      <td>0.183465</td>\n",
       "    </tr>\n",
       "    <tr>\n",
       "      <th>Gate location</th>\n",
       "      <td>0.003378</td>\n",
       "      <td>-0.031843</td>\n",
       "      <td>0.239245</td>\n",
       "      <td>0.598839</td>\n",
       "      <td>-0.073424</td>\n",
       "    </tr>\n",
       "    <tr>\n",
       "      <th>Food and drink</th>\n",
       "      <td>0.774197</td>\n",
       "      <td>-0.009454</td>\n",
       "      <td>0.065749</td>\n",
       "      <td>-0.006472</td>\n",
       "      <td>-0.004880</td>\n",
       "    </tr>\n",
       "    <tr>\n",
       "      <th>Online boarding</th>\n",
       "      <td>0.280713</td>\n",
       "      <td>0.088807</td>\n",
       "      <td>0.338152</td>\n",
       "      <td>-0.018862</td>\n",
       "      <td>0.890737</td>\n",
       "    </tr>\n",
       "    <tr>\n",
       "      <th>Seat comfort</th>\n",
       "      <td>0.754622</td>\n",
       "      <td>0.056020</td>\n",
       "      <td>-0.018115</td>\n",
       "      <td>0.019702</td>\n",
       "      <td>0.234303</td>\n",
       "    </tr>\n",
       "    <tr>\n",
       "      <th>Inflight entertainment</th>\n",
       "      <td>0.789348</td>\n",
       "      <td>0.472389</td>\n",
       "      <td>0.109158</td>\n",
       "      <td>-0.044350</td>\n",
       "      <td>-0.021389</td>\n",
       "    </tr>\n",
       "    <tr>\n",
       "      <th>On-board service</th>\n",
       "      <td>0.096848</td>\n",
       "      <td>0.693062</td>\n",
       "      <td>0.001189</td>\n",
       "      <td>0.016880</td>\n",
       "      <td>0.074948</td>\n",
       "    </tr>\n",
       "    <tr>\n",
       "      <th>Leg room service</th>\n",
       "      <td>0.069526</td>\n",
       "      <td>0.482456</td>\n",
       "      <td>0.137387</td>\n",
       "      <td>-0.038536</td>\n",
       "      <td>0.026079</td>\n",
       "    </tr>\n",
       "    <tr>\n",
       "      <th>Baggage handling</th>\n",
       "      <td>0.044680</td>\n",
       "      <td>0.760503</td>\n",
       "      <td>-0.003879</td>\n",
       "      <td>0.045810</td>\n",
       "      <td>0.005208</td>\n",
       "    </tr>\n",
       "    <tr>\n",
       "      <th>Inflight service</th>\n",
       "      <td>0.043577</td>\n",
       "      <td>0.797904</td>\n",
       "      <td>-0.016303</td>\n",
       "      <td>0.049426</td>\n",
       "      <td>-0.005929</td>\n",
       "    </tr>\n",
       "    <tr>\n",
       "      <th>Cleanliness</th>\n",
       "      <td>0.850843</td>\n",
       "      <td>0.063000</td>\n",
       "      <td>0.002699</td>\n",
       "      <td>0.015243</td>\n",
       "      <td>0.100861</td>\n",
       "    </tr>\n",
       "  </tbody>\n",
       "</table>\n",
       "</div>"
      ],
      "text/plain": [
       "                                          0         1         2         3  \\\n",
       "Inflight wifi service              0.111923  0.131437  0.697033  0.327321   \n",
       "Departure/Arrival time convenient -0.008464  0.056461  0.132285  0.698292   \n",
       "Ease of Online booking            -0.018511  0.027640  0.747420  0.479608   \n",
       "Gate location                      0.003378 -0.031843  0.239245  0.598839   \n",
       "Food and drink                     0.774197 -0.009454  0.065749 -0.006472   \n",
       "Online boarding                    0.280713  0.088807  0.338152 -0.018862   \n",
       "Seat comfort                       0.754622  0.056020 -0.018115  0.019702   \n",
       "Inflight entertainment             0.789348  0.472389  0.109158 -0.044350   \n",
       "On-board service                   0.096848  0.693062  0.001189  0.016880   \n",
       "Leg room service                   0.069526  0.482456  0.137387 -0.038536   \n",
       "Baggage handling                   0.044680  0.760503 -0.003879  0.045810   \n",
       "Inflight service                   0.043577  0.797904 -0.016303  0.049426   \n",
       "Cleanliness                        0.850843  0.063000  0.002699  0.015243   \n",
       "\n",
       "                                          4  \n",
       "Inflight wifi service              0.204603  \n",
       "Departure/Arrival time convenient  0.040833  \n",
       "Ease of Online booking             0.183465  \n",
       "Gate location                     -0.073424  \n",
       "Food and drink                    -0.004880  \n",
       "Online boarding                    0.890737  \n",
       "Seat comfort                       0.234303  \n",
       "Inflight entertainment            -0.021389  \n",
       "On-board service                   0.074948  \n",
       "Leg room service                   0.026079  \n",
       "Baggage handling                   0.005208  \n",
       "Inflight service                  -0.005929  \n",
       "Cleanliness                        0.100861  "
      ]
     },
     "execution_count": 154,
     "metadata": {},
     "output_type": "execute_result"
    }
   ],
   "source": [
    "fa2= FactorAnalyzer(n_factors=5,rotation='varimax')\n",
    "fa2.fit(df_scaled)\n",
    "pd.DataFrame(fa2.loadings_,index=df.columns)"
   ]
  },
  {
   "cell_type": "code",
   "execution_count": 155,
   "id": "d8478298",
   "metadata": {},
   "outputs": [
    {
     "data": {
      "image/png": "[encoded data removed]",
      "text/plain": [
       "<Figure size 432x288 with 2 Axes>"
      ]
     },
     "metadata": {
      "needs_background": "light"
     },
     "output_type": "display_data"
    }
   ],
   "source": [
    "Z=np.abs(fa2.loadings_)\n",
    "fig, ax = plt.subplots()\n",
    "c = ax.pcolor(Z)\n",
    "fig.colorbar(c, ax=ax)\n",
    "ax.set_yticks(np.arange(fa.loadings_.shape[0])+0.5, minor=False)\n",
    "ax.set_xticks(np.arange(fa.loadings_.shape[1])+0.5, minor=False)\n",
    "ax.set_yticklabels(df.columns.values)\n",
    "ax.set_xticklabels(np.arange(1,6))\n",
    "plt.show()"
   ]
  },
  {
   "cell_type": "code",
   "execution_count": 158,
   "id": "35f983a7",
   "metadata": {},
   "outputs": [
    {
     "data": {
      "text/html": [
       "<div>\n",
       "<style scoped>\n",
       "    .dataframe tbody tr th:only-of-type {\n",
       "        vertical-align: middle;\n",
       "    }\n",
       "\n",
       "    .dataframe tbody tr th {\n",
       "        vertical-align: top;\n",
       "    }\n",
       "\n",
       "    .dataframe thead th {\n",
       "        text-align: right;\n",
       "    }\n",
       "</style>\n",
       "<table border=\"1\" class=\"dataframe\">\n",
       "  <thead>\n",
       "    <tr style=\"text-align: right;\">\n",
       "      <th></th>\n",
       "      <th>0</th>\n",
       "      <th>1</th>\n",
       "      <th>2</th>\n",
       "      <th>3</th>\n",
       "      <th>4</th>\n",
       "    </tr>\n",
       "  </thead>\n",
       "  <tbody>\n",
       "    <tr>\n",
       "      <th>Inflight wifi service</th>\n",
       "      <td>0.101684</td>\n",
       "      <td>0.134563</td>\n",
       "      <td>0.496182</td>\n",
       "      <td>0.363611</td>\n",
       "      <td>0.530716</td>\n",
       "    </tr>\n",
       "    <tr>\n",
       "      <th>Departure/Arrival time convenient</th>\n",
       "      <td>-0.008958</td>\n",
       "      <td>0.057552</td>\n",
       "      <td>0.679487</td>\n",
       "      <td>0.036167</td>\n",
       "      <td>-0.043271</td>\n",
       "    </tr>\n",
       "    <tr>\n",
       "      <th>Ease of Online booking</th>\n",
       "      <td>-0.027782</td>\n",
       "      <td>0.030912</td>\n",
       "      <td>0.660180</td>\n",
       "      <td>0.350122</td>\n",
       "      <td>0.489729</td>\n",
       "    </tr>\n",
       "    <tr>\n",
       "      <th>Gate location</th>\n",
       "      <td>0.011175</td>\n",
       "      <td>-0.026168</td>\n",
       "      <td>0.663552</td>\n",
       "      <td>-0.059239</td>\n",
       "      <td>0.076166</td>\n",
       "    </tr>\n",
       "    <tr>\n",
       "      <th>Food and drink</th>\n",
       "      <td>0.775422</td>\n",
       "      <td>-0.005093</td>\n",
       "      <td>0.005926</td>\n",
       "      <td>0.009101</td>\n",
       "      <td>0.091632</td>\n",
       "    </tr>\n",
       "    <tr>\n",
       "      <th>Online boarding</th>\n",
       "      <td>0.276239</td>\n",
       "      <td>0.091609</td>\n",
       "      <td>0.062200</td>\n",
       "      <td>0.860367</td>\n",
       "      <td>0.136325</td>\n",
       "    </tr>\n",
       "    <tr>\n",
       "      <th>Seat comfort</th>\n",
       "      <td>0.758904</td>\n",
       "      <td>0.052278</td>\n",
       "      <td>0.012798</td>\n",
       "      <td>0.253819</td>\n",
       "      <td>-0.101753</td>\n",
       "    </tr>\n",
       "    <tr>\n",
       "      <th>Inflight entertainment</th>\n",
       "      <td>0.787867</td>\n",
       "      <td>0.472247</td>\n",
       "      <td>-0.020061</td>\n",
       "      <td>0.007543</td>\n",
       "      <td>0.136473</td>\n",
       "    </tr>\n",
       "    <tr>\n",
       "      <th>On-board service</th>\n",
       "      <td>0.100399</td>\n",
       "      <td>0.697058</td>\n",
       "      <td>0.003880</td>\n",
       "      <td>0.073335</td>\n",
       "      <td>-0.012191</td>\n",
       "    </tr>\n",
       "    <tr>\n",
       "      <th>Leg room service</th>\n",
       "      <td>0.069346</td>\n",
       "      <td>0.479557</td>\n",
       "      <td>0.005227</td>\n",
       "      <td>0.057218</td>\n",
       "      <td>0.126962</td>\n",
       "    </tr>\n",
       "    <tr>\n",
       "      <th>Baggage handling</th>\n",
       "      <td>0.041824</td>\n",
       "      <td>0.758004</td>\n",
       "      <td>0.044082</td>\n",
       "      <td>0.005157</td>\n",
       "      <td>-0.027567</td>\n",
       "    </tr>\n",
       "    <tr>\n",
       "      <th>Inflight service</th>\n",
       "      <td>0.042272</td>\n",
       "      <td>0.801053</td>\n",
       "      <td>0.041166</td>\n",
       "      <td>-0.011721</td>\n",
       "      <td>-0.028151</td>\n",
       "    </tr>\n",
       "    <tr>\n",
       "      <th>Cleanliness</th>\n",
       "      <td>0.844885</td>\n",
       "      <td>0.063983</td>\n",
       "      <td>0.011681</td>\n",
       "      <td>0.110690</td>\n",
       "      <td>-0.019181</td>\n",
       "    </tr>\n",
       "  </tbody>\n",
       "</table>\n",
       "</div>"
      ],
      "text/plain": [
       "                                          0         1         2         3  \\\n",
       "Inflight wifi service              0.101684  0.134563  0.496182  0.363611   \n",
       "Departure/Arrival time convenient -0.008958  0.057552  0.679487  0.036167   \n",
       "Ease of Online booking            -0.027782  0.030912  0.660180  0.350122   \n",
       "Gate location                      0.011175 -0.026168  0.663552 -0.059239   \n",
       "Food and drink                     0.775422 -0.005093  0.005926  0.009101   \n",
       "Online boarding                    0.276239  0.091609  0.062200  0.860367   \n",
       "Seat comfort                       0.758904  0.052278  0.012798  0.253819   \n",
       "Inflight entertainment             0.787867  0.472247 -0.020061  0.007543   \n",
       "On-board service                   0.100399  0.697058  0.003880  0.073335   \n",
       "Leg room service                   0.069346  0.479557  0.005227  0.057218   \n",
       "Baggage handling                   0.041824  0.758004  0.044082  0.005157   \n",
       "Inflight service                   0.042272  0.801053  0.041166 -0.011721   \n",
       "Cleanliness                        0.844885  0.063983  0.011681  0.110690   \n",
       "\n",
       "                                          4  \n",
       "Inflight wifi service              0.530716  \n",
       "Departure/Arrival time convenient -0.043271  \n",
       "Ease of Online booking             0.489729  \n",
       "Gate location                      0.076166  \n",
       "Food and drink                     0.091632  \n",
       "Online boarding                    0.136325  \n",
       "Seat comfort                      -0.101753  \n",
       "Inflight entertainment             0.136473  \n",
       "On-board service                  -0.012191  \n",
       "Leg room service                   0.126962  \n",
       "Baggage handling                  -0.027567  \n",
       "Inflight service                  -0.028151  \n",
       "Cleanliness                       -0.019181  "
      ]
     },
     "execution_count": 158,
     "metadata": {},
     "output_type": "execute_result"
    }
   ],
   "source": [
    "fa3= FactorAnalyzer(n_factors=5,rotation='varimax', method='ml', use_smc=False)\n",
    "fa3.fit(df_scaled)\n",
    "pd.DataFrame(fa3.loadings_,index=df.columns)"
   ]
  },
  {
   "cell_type": "code",
   "execution_count": 159,
   "id": "90a5ac5d",
   "metadata": {},
   "outputs": [
    {
     "data": {
      "image/png": "[encoded data removed]",
      "text/plain": [
       "<Figure size 432x288 with 2 Axes>"
      ]
     },
     "metadata": {
      "needs_background": "light"
     },
     "output_type": "display_data"
    }
   ],
   "source": [
    "Z=np.abs(fa3.loadings_)\n",
    "fig, ax = plt.subplots()\n",
    "c = ax.pcolor(Z)\n",
    "fig.colorbar(c, ax=ax)\n",
    "ax.set_yticks(np.arange(fa.loadings_.shape[0])+0.5, minor=False)\n",
    "ax.set_xticks(np.arange(fa.loadings_.shape[1])+0.5, minor=False)\n",
    "ax.set_yticklabels(df.columns.values)\n",
    "ax.set_xticklabels(np.arange(1,6))\n",
    "plt.show()"
   ]
  },
  {
   "cell_type": "code",
   "execution_count": null,
   "id": "6e915f16",
   "metadata": {},
   "outputs": [],
   "source": []
  }
 ],
 "metadata": {
  "kernelspec": {
   "display_name": "Python 3 (ipykernel)",
   "language": "python",
   "name": "python3"
  },
  "language_info": {
   "codemirror_mode": {
    "name": "ipython",
    "version": 3
   },
   "file_extension": ".py",
   "mimetype": "text/x-python",
   "name": "python",
   "nbconvert_exporter": "python",
   "pygments_lexer": "ipython3",
   "version": "3.9.13"
  },
  "toc": {
   "base_numbering": 1,
   "nav_menu": {},
   "number_sections": true,
   "sideBar": true,
   "skip_h1_title": false,
   "title_cell": "Table of Contents",
   "title_sidebar": "Contents",
   "toc_cell": false,
   "toc_position": {},
   "toc_section_display": true,
   "toc_window_display": false
  }
 },
 "nbformat": 4,
 "nbformat_minor": 5
}
